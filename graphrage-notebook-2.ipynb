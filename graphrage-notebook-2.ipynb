{
 "cells": [
  {
   "cell_type": "markdown",
   "id": "a102de02",
   "metadata": {},
   "source": [
    "# GraphRAG ChatBot For Stakeholder Model Whitepaper\n",
    "\n",
    "This notebook will show the process of taking the Godot Stakeholder Model PDF and converting it into nodes and relationships in a NEO4J graqph database as well as using ChatGPT to communicate with the data in the database."
   ]
  },
  {
   "cell_type": "code",
   "execution_count": 22,
   "id": "711b7b2e",
   "metadata": {},
   "outputs": [],
   "source": [
    "import os\n",
    "from dotenv import load_dotenv\n",
    "\n",
    "from langchain.document_loaders import WikipediaLoader\n",
    "from langchain.evaluation.qa.eval_chain import QAEvalChain\n",
    "from langchain.prompts import PromptTemplate\n",
    "from langchain.text_splitter import RecursiveCharacterTextSplitter\n",
    "\n",
    "from langchain_community.document_loaders import PyPDFLoader\n",
    "from langchain_experimental.graph_transformers import LLMGraphTransformer\n",
    "from langchain_neo4j import GraphCypherQAChain, Neo4jGraph\n",
    "from langchain_openai import ChatOpenAI"
   ]
  },
  {
   "cell_type": "code",
   "execution_count": 4,
   "id": "d4f8941e",
   "metadata": {},
   "outputs": [],
   "source": [
    "load_dotenv(dotenv_path=\".env\")\n",
    "\n",
    "URI = os.getenv(\"NEO4J_URI\")\n",
    "USER = os.getenv(\"NEO4J_USER\")\n",
    "PWD = os.getenv(\"NEO4J_PASSWORD\")\n",
    "OPENAI_API_KEY = os.getenv(\"OPENAI_API_KEY\")"
   ]
  },
  {
   "cell_type": "code",
   "execution_count": 6,
   "id": "1d02d5c7",
   "metadata": {},
   "outputs": [],
   "source": [
    "pdf_path = \"The GODOT Stakeholder Value Model_ Whitepaper + Game Theory.pdf\"\n",
    "loader = PyPDFLoader(pdf_path)\n",
    "pages = loader.load()"
   ]
  },
  {
   "cell_type": "code",
   "execution_count": 10,
   "id": "355a10c1",
   "metadata": {},
   "outputs": [],
   "source": [
    "text_splitter = RecursiveCharacterTextSplitter(chunk_size=1000, chunk_overlap=200)\n",
    "chunks = text_splitter.split_documents(pages)"
   ]
  },
  {
   "cell_type": "code",
   "execution_count": 11,
   "id": "8b6254a7",
   "metadata": {},
   "outputs": [
    {
     "data": {
      "text/plain": [
       "168"
      ]
     },
     "execution_count": 11,
     "metadata": {},
     "output_type": "execute_result"
    }
   ],
   "source": [
    "len(chunks)"
   ]
  },
  {
   "cell_type": "code",
   "execution_count": 14,
   "id": "347cf90e",
   "metadata": {},
   "outputs": [],
   "source": [
    "graph = Neo4jGraph(url=URI, username=USER, password=PWD)\n",
    "llm = ChatOpenAI(temperature=0, model_name=\"gpt-4o\", openai_api_key=OPENAI_API_KEY)\n",
    "llm_transformer = LLMGraphTransformer(llm=llm)"
   ]
  },
  {
   "cell_type": "code",
   "execution_count": 15,
   "id": "c3e4aff2",
   "metadata": {},
   "outputs": [],
   "source": [
    "graph_documents = llm_transformer.convert_to_graph_documents(chunks)"
   ]
  },
  {
   "cell_type": "code",
   "execution_count": 16,
   "id": "0f7f020a",
   "metadata": {},
   "outputs": [],
   "source": [
    "graph.add_graph_documents(graph_documents)"
   ]
  },
  {
   "cell_type": "code",
   "execution_count": 59,
   "id": "eeb44470",
   "metadata": {},
   "outputs": [],
   "source": [
    "enhanced_graph = Neo4jGraph(url=URI, username=USER, password=PWD, enhanced_schema=True)"
   ]
  },
  {
   "cell_type": "code",
   "execution_count": 60,
   "id": "eb32a7e4",
   "metadata": {},
   "outputs": [],
   "source": [
    "CYPHER_GENERATION_TEMPLATE = \"\"\"\n",
    "You are an expert Neo4j Cypher developer.\n",
    "Translate the user's natural language question INTO Cypher queries\n",
    "that retrieve information ONLY from the GODOT Stakeholder Value Model graph.\n",
    "\n",
    "Schema:\n",
    "{schema}\n",
    "\n",
    "Rules:\n",
    "- Only use labels and relationship types that exist in the schema.\n",
    "- Scope all queries to the GODOT Stakeholder Value Model context. Do NOT return generic definitions.\n",
    "- Use explicit property filters with WHERE, e.g. MATCH (c:Company) WHERE c.`id` = \"Godot\".\n",
    "- For broad questions (\"What is X?\"), treat X as a graph concept and expand context with OPTIONAL MATCH.\n",
    "- Return informative properties (`id`, `name`, `title`, `summary`, `description`) and relationship targets.\n",
    "- Use clear aliases, e.g. RETURN c.`id` AS company, collect(DISTINCT p.`id`) AS policies.\n",
    "- Do NOT invent labels or properties that aren’t in the schema.\n",
    "- If nothing is found, still produce a minimal MATCH/WHERE that returns zero rows.\n",
    "\n",
    "Few-shot guidance:\n",
    "\n",
    "Q: \"What is Godot as a company?\"\n",
    "Cypher:\n",
    "MATCH (c:Company) WHERE c.`id` = \"Godot\"\n",
    "OPTIONAL MATCH (c)-[:HAS_POLICY]->(p:Policy)\n",
    "OPTIONAL MATCH (c)-[:HAS_STRUCTURE]->(s:Structure)\n",
    "OPTIONAL MATCH (c)-[:HAS_EQUITY_TRUST]->(t:EquityTrust)\n",
    "OPTIONAL MATCH (c)-[:RELATES_TO]->(k:Concept)\n",
    "RETURN c.`id` AS company,\n",
    "       collect(DISTINCT p.`id`) AS policies,\n",
    "       collect(DISTINCT s.`id`) AS structures,\n",
    "       collect(DISTINCT t.`id`) AS equity_trust_elements,\n",
    "       collect(DISTINCT k.`id`) AS related_concepts\n",
    "\n",
    "Q: \"What is game theory?\"\n",
    "Cypher:\n",
    "MATCH (g:Concept)\n",
    "WHERE toLower(g.`id`) = \"game theory\" OR toLower(g.`name`) CONTAINS \"game theory\"\n",
    "OPTIONAL MATCH (g)<-[:APPLIES_FRAMEWORK]-(:Analysis)-[:USES]->(f:GameTheoryFramework)\n",
    "OPTIONAL MATCH (g)<-[:RELATES_TO]-(co:Company)-[:RELATES_TO]->(c:Concept)\n",
    "WHERE co.`id` = \"Godot\"\n",
    "RETURN g.`id` AS concept,\n",
    "       coalesce(g.`summary`, g.`description`, g.`id`) AS concept_summary,\n",
    "       collect(DISTINCT f.`id`) AS frameworks,\n",
    "       collect(DISTINCT c.`id`) AS nearby_company_concepts\n",
    "\n",
    "Q: \"How are bonuses calculated?\"\n",
    "Cypher:\n",
    "MATCH (co:Company) WHERE co.`id` = \"Godot\"\n",
    "OPTIONAL MATCH (co)-[:HAS_EQUITY_TRUST]->(t:EquityTrust)\n",
    "OPTIONAL MATCH (t)-[:ALLOCATES]->(b:BonusPolicy)\n",
    "OPTIONAL MATCH (b)-[:DEFINED_BY]->(kpi:KPI)\n",
    "RETURN b.`id` AS bonus_policy,\n",
    "       coalesce(b.`formula`, b.`summary`, b.`description`) AS bonus_formula,\n",
    "       kpi.`id` AS kpi_id, kpi.`definition` AS kpi_definition\n",
    "\n",
    "Q: \"Summarize the compensation model.\"\n",
    "Cypher:\n",
    "MATCH (co:Company) WHERE co.`id` = \"Godot\"\n",
    "OPTIONAL MATCH (co)-[:HAS_POLICY]->(p:Policy)\n",
    "OPTIONAL MATCH (co)-[:HAS_EQUITY_TRUST]->(t:EquityTrust)-[:ALLOCATES]->(alloc)\n",
    "WITH co, p, t, collect(DISTINCT labels(alloc)[0] + \":\" + coalesce(alloc.`id`, alloc.`name`)) AS trust_allocations\n",
    "RETURN co.`id` AS company,\n",
    "       collect(DISTINCT p.`id`) AS policies,\n",
    "       trust_allocations\n",
    "\n",
    "User Question:\n",
    "{question}\n",
    "\"\"\"\n",
    "\n",
    "\n",
    "\n",
    "\n",
    "\n",
    "\n",
    "\n",
    "cypher_generation_prompt = PromptTemplate(\n",
    "    template=CYPHER_GENERATION_TEMPLATE,\n",
    "    input_variables=[\"schema\", \"query\"]\n",
    ")\n"
   ]
  },
  {
   "cell_type": "code",
   "execution_count": 61,
   "id": "106ef7fd",
   "metadata": {},
   "outputs": [],
   "source": [
    "cypher_chain = GraphCypherQAChain.from_llm(\n",
    "    llm,\n",
    "    graph=enhanced_graph,\n",
    "    cypher_prompt=cypher_generation_prompt,\n",
    "    verbose=True,\n",
    "    allow_dangerous_requests=True\n",
    ")\n"
   ]
  },
  {
   "cell_type": "code",
   "execution_count": 62,
   "id": "047edffb",
   "metadata": {},
   "outputs": [
    {
     "name": "stdout",
     "output_type": "stream",
     "text": [
      "\n",
      "\n",
      "\u001b[1m> Entering new GraphCypherQAChain chain...\u001b[0m\n",
      "Generated Cypher:\n",
      "\u001b[32;1m\u001b[1;3mcypher\n",
      "MATCH (g:Concept)\n",
      "WHERE toLower(g.`id`) = \"game theory\" OR toLower(g.`name`) CONTAINS \"game theory\"\n",
      "OPTIONAL MATCH (g)<-[:APPLIES_FRAMEWORK]-(:Analysis)-[:USES]->(f:GameTheoryFramework)\n",
      "OPTIONAL MATCH (g)<-[:RELATES_TO]-(co:Company)-[:RELATES_TO]->(c:Concept)\n",
      "WHERE co.`id` = \"Godot\"\n",
      "RETURN g.`id` AS concept,\n",
      "       coalesce(g.`summary`, g.`description`, g.`id`) AS concept_summary,\n",
      "       collect(DISTINCT f.`id`) AS frameworks,\n",
      "       collect(DISTINCT c.`id`) AS nearby_company_concepts\n",
      "\u001b[0m\n"
     ]
    },
    {
     "name": "stderr",
     "output_type": "stream",
     "text": [
      "Received notification from DBMS server: {severity: WARNING} {code: Neo.ClientNotification.Statement.UnknownPropertyKeyWarning} {category: UNRECOGNIZED} {title: The provided property key is not in the database} {description: One of the property names in your query is not available in the database, make sure you didn't misspell it or that the label is available when you run this statement in your application (the missing property name is: name)} {position: line: 3, column: 52, offset: 76} for query: 'cypher\\nMATCH (g:Concept)\\nWHERE toLower(g.`id`) = \"game theory\" OR toLower(g.`name`) CONTAINS \"game theory\"\\nOPTIONAL MATCH (g)<-[:APPLIES_FRAMEWORK]-(:Analysis)-[:USES]->(f:GameTheoryFramework)\\nOPTIONAL MATCH (g)<-[:RELATES_TO]-(co:Company)-[:RELATES_TO]->(c:Concept)\\nWHERE co.`id` = \"Godot\"\\nRETURN g.`id` AS concept,\\n       coalesce(g.`summary`, g.`description`, g.`id`) AS concept_summary,\\n       collect(DISTINCT f.`id`) AS frameworks,\\n       collect(DISTINCT c.`id`) AS nearby_company_concepts\\n'\n",
      "Received notification from DBMS server: {severity: WARNING} {code: Neo.ClientNotification.Statement.UnknownRelationshipTypeWarning} {category: UNRECOGNIZED} {title: The provided relationship type is not in the database.} {description: One of the relationship types in your query is not available in the database, make sure you didn't misspell it or that the label is available when you run this statement in your application (the missing relationship type is: APPLIES_FRAMEWORK)} {position: line: 4, column: 23, offset: 129} for query: 'cypher\\nMATCH (g:Concept)\\nWHERE toLower(g.`id`) = \"game theory\" OR toLower(g.`name`) CONTAINS \"game theory\"\\nOPTIONAL MATCH (g)<-[:APPLIES_FRAMEWORK]-(:Analysis)-[:USES]->(f:GameTheoryFramework)\\nOPTIONAL MATCH (g)<-[:RELATES_TO]-(co:Company)-[:RELATES_TO]->(c:Concept)\\nWHERE co.`id` = \"Godot\"\\nRETURN g.`id` AS concept,\\n       coalesce(g.`summary`, g.`description`, g.`id`) AS concept_summary,\\n       collect(DISTINCT f.`id`) AS frameworks,\\n       collect(DISTINCT c.`id`) AS nearby_company_concepts\\n'\n",
      "Received notification from DBMS server: {severity: WARNING} {code: Neo.ClientNotification.Statement.UnknownLabelWarning} {category: UNRECOGNIZED} {title: The provided label is not in the database.} {description: One of the labels in your query is not available in the database, make sure you didn't misspell it or that the label is available when you run this statement in your application (the missing label name is: Analysis)} {position: line: 4, column: 44, offset: 150} for query: 'cypher\\nMATCH (g:Concept)\\nWHERE toLower(g.`id`) = \"game theory\" OR toLower(g.`name`) CONTAINS \"game theory\"\\nOPTIONAL MATCH (g)<-[:APPLIES_FRAMEWORK]-(:Analysis)-[:USES]->(f:GameTheoryFramework)\\nOPTIONAL MATCH (g)<-[:RELATES_TO]-(co:Company)-[:RELATES_TO]->(c:Concept)\\nWHERE co.`id` = \"Godot\"\\nRETURN g.`id` AS concept,\\n       coalesce(g.`summary`, g.`description`, g.`id`) AS concept_summary,\\n       collect(DISTINCT f.`id`) AS frameworks,\\n       collect(DISTINCT c.`id`) AS nearby_company_concepts\\n'\n",
      "Received notification from DBMS server: {severity: WARNING} {code: Neo.ClientNotification.Statement.UnknownPropertyKeyWarning} {category: UNRECOGNIZED} {title: The provided property key is not in the database} {description: One of the property names in your query is not available in the database, make sure you didn't misspell it or that the label is available when you run this statement in your application (the missing property name is: description)} {position: line: 8, column: 32, offset: 348} for query: 'cypher\\nMATCH (g:Concept)\\nWHERE toLower(g.`id`) = \"game theory\" OR toLower(g.`name`) CONTAINS \"game theory\"\\nOPTIONAL MATCH (g)<-[:APPLIES_FRAMEWORK]-(:Analysis)-[:USES]->(f:GameTheoryFramework)\\nOPTIONAL MATCH (g)<-[:RELATES_TO]-(co:Company)-[:RELATES_TO]->(c:Concept)\\nWHERE co.`id` = \"Godot\"\\nRETURN g.`id` AS concept,\\n       coalesce(g.`summary`, g.`description`, g.`id`) AS concept_summary,\\n       collect(DISTINCT f.`id`) AS frameworks,\\n       collect(DISTINCT c.`id`) AS nearby_company_concepts\\n'\n"
     ]
    },
    {
     "name": "stdout",
     "output_type": "stream",
     "text": [
      "Full Context:\n",
      "\u001b[32;1m\u001b[1;3m[{'concept': 'Game Theory', 'concept_summary': 'Analytical lens in the model to evaluate incentive compatibility and cooperation.', 'frameworks': [], 'nearby_company_concepts': []}]\u001b[0m\n",
      "\n",
      "\u001b[1m> Finished chain.\u001b[0m\n"
     ]
    },
    {
     "data": {
      "text/plain": [
       "{'query': 'What is game theory?',\n",
       " 'result': 'Game theory is an analytical lens in the model to evaluate incentive compatibility and cooperation.'}"
      ]
     },
     "execution_count": 62,
     "metadata": {},
     "output_type": "execute_result"
    }
   ],
   "source": [
    "cypher_chain.invoke({\"query\":\"What is game theory?\"})"
   ]
  },
  {
   "cell_type": "code",
   "execution_count": 63,
   "id": "b79988a0",
   "metadata": {},
   "outputs": [
    {
     "name": "stdout",
     "output_type": "stream",
     "text": [
      "\n",
      "\n",
      "\u001b[1m> Entering new GraphCypherQAChain chain...\u001b[0m\n",
      "Generated Cypher:\n",
      "\u001b[32;1m\u001b[1;3mcypher\n",
      "MATCH (g:Group) WHERE g.`id` = \"Employees\"\n",
      "OPTIONAL MATCH (g)-[:BENEFIT_FROM]->(c:Concept)\n",
      "OPTIONAL MATCH (g)-[:RECEIVE]->(p:Policy)\n",
      "RETURN g.`id` AS group,\n",
      "       collect(DISTINCT c.`id`) AS benefit_concepts,\n",
      "       collect(DISTINCT p.`id`) AS policies\n",
      "\u001b[0m\n",
      "Full Context:\n",
      "\u001b[32;1m\u001b[1;3m[{'group': 'Employees', 'benefit_concepts': [], 'policies': []}]\u001b[0m\n",
      "\n",
      "\u001b[1m> Finished chain.\u001b[0m\n"
     ]
    },
    {
     "data": {
      "text/plain": [
       "{'query': 'What are the incentives for employees?',\n",
       " 'result': \"I don't know the answer.\"}"
      ]
     },
     "execution_count": 63,
     "metadata": {},
     "output_type": "execute_result"
    }
   ],
   "source": [
    "cypher_chain.invoke({\"query\":\"What are the incentives for employees?\"})"
   ]
  },
  {
   "cell_type": "code",
   "execution_count": null,
   "id": "e0060d2f",
   "metadata": {},
   "outputs": [],
   "source": []
  }
 ],
 "metadata": {
  "kernelspec": {
   "display_name": "base",
   "language": "python",
   "name": "python3"
  },
  "language_info": {
   "codemirror_mode": {
    "name": "ipython",
    "version": 3
   },
   "file_extension": ".py",
   "mimetype": "text/x-python",
   "name": "python",
   "nbconvert_exporter": "python",
   "pygments_lexer": "ipython3",
   "version": "3.11.4"
  }
 },
 "nbformat": 4,
 "nbformat_minor": 5
}
