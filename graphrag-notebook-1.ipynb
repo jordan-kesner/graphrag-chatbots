{
 "cells": [
  {
   "cell_type": "code",
   "execution_count": 20,
   "id": "6e5dc171",
   "metadata": {},
   "outputs": [],
   "source": [
    "import os\n",
    "from dotenv import load_dotenv\n",
    "\n",
    "from langchain.prompts import ChatPromptTemplate, SystemMessagePromptTemplate, HumanMessagePromptTemplate\n",
    "from langchain.chat_models import ChatOpenAI\n",
    "from langchain_neo4j import Neo4jGraph, GraphCypherQAChain\n",
    "from langchain_experimental.graph_transformers import LLMGraphTransformer\n",
    "from langchain_core.documents import Document\n",
    "\n"
   ]
  },
  {
   "cell_type": "code",
   "execution_count": 14,
   "id": "1b32cd6c",
   "metadata": {},
   "outputs": [],
   "source": [
    "load_dotenv(dotenv_path=\"../.env\")\n",
    "OPENAI_API_KEY = os.getenv(\"OPENAI_API_KEY\")\n",
    "URI = os.getenv(\"NEO4J_URI\")\n",
    "USER = os.getenv(\"NEO4J_USERNAME\")\n",
    "PWD = os.getenv(\"NEO4J_PASSWORD\")\n",
    "graph = Neo4jGraph(url=URI, username=USER, password=PWD)"
   ]
  },
  {
   "cell_type": "code",
   "execution_count": 15,
   "id": "8612d912",
   "metadata": {},
   "outputs": [],
   "source": [
    "text = \"\"\"\n",
    "Ada Lovelace was a mathematician who worked with Charles Babbage on the Analytical Engine.\n",
    "She is often credited as the first computer programmer.\n",
    "\"\"\""
   ]
  },
  {
   "cell_type": "code",
   "execution_count": 18,
   "id": "0d8c948e",
   "metadata": {},
   "outputs": [],
   "source": [
    "llm = ChatOpenAI(openai_api_key=OPENAI_API_KEY, model_name=\"gpt-4o\")\n",
    "llm_transformer = LLMGraphTransformer(llm=llm)\n",
    "\n"
   ]
  },
  {
   "cell_type": "code",
   "execution_count": 21,
   "id": "9aabbf64",
   "metadata": {},
   "outputs": [
    {
     "name": "stdout",
     "output_type": "stream",
     "text": [
      "Nodes:[Node(id='first computer programmer', type='Title', properties={}), Node(id='Ada Lovelace', type='Person', properties={}), Node(id='Charles Babbage', type='Person', properties={}), Node(id='Analytical Engine', type='Invention', properties={})]\n",
      "Relationships:[Relationship(source=Node(id='Ada Lovelace', type='Person', properties={}), target=Node(id='Charles Babbage', type='Person', properties={}), type='WORKED_WITH', properties={}), Relationship(source=Node(id='Ada Lovelace', type='Person', properties={}), target=Node(id='Analytical Engine', type='Invention', properties={}), type='WORKED_ON', properties={}), Relationship(source=Node(id='Ada Lovelace', type='Person', properties={}), target=Node(id='first computer programmer', type='Title', properties={}), type='CREDITED_AS', properties={})]\n"
     ]
    }
   ],
   "source": [
    "documents = [Document(page_content=text)]\n",
    "graph_documents = llm_transformer.convert_to_graph_documents(documents)\n",
    "print(f\"Nodes:{graph_documents[0].nodes}\")\n",
    "print(f\"Relationships:{graph_documents[0].relationships}\")"
   ]
  },
  {
   "cell_type": "code",
   "execution_count": 22,
   "id": "88d372b0",
   "metadata": {},
   "outputs": [],
   "source": [
    "graph.add_graph_documents(graph_documents)"
   ]
  },
  {
   "cell_type": "code",
   "execution_count": 23,
   "id": "98946d4a",
   "metadata": {},
   "outputs": [
    {
     "data": {
      "text/plain": [
       "[{'TOTAL': 4}]"
      ]
     },
     "execution_count": 23,
     "metadata": {},
     "output_type": "execute_result"
    }
   ],
   "source": [
    "graph.query(\"MATCH (n) RETURN count(n) AS TOTAL\")  # Example query to count nodes"
   ]
  },
  {
   "cell_type": "code",
   "execution_count": 26,
   "id": "550bf324",
   "metadata": {},
   "outputs": [
    {
     "data": {
      "text/plain": [
       "[{'a': {'id': 'Ada Lovelace'}}, {'a': {'id': 'Charles Babbage'}}]"
      ]
     },
     "execution_count": 26,
     "metadata": {},
     "output_type": "execute_result"
    }
   ],
   "source": [
    "graph.query(\"MATCH (a:Person) RETURN a\")"
   ]
  },
  {
   "cell_type": "code",
   "execution_count": 27,
   "id": "2a29bd74",
   "metadata": {},
   "outputs": [
    {
     "data": {
      "text/plain": [
       "[]"
      ]
     },
     "execution_count": 27,
     "metadata": {},
     "output_type": "execute_result"
    }
   ],
   "source": [
    "graph.query('MATCH (n) DETACH DELETE n')"
   ]
  },
  {
   "cell_type": "code",
   "execution_count": null,
   "id": "55baaf62",
   "metadata": {},
   "outputs": [],
   "source": []
  }
 ],
 "metadata": {
  "kernelspec": {
   "display_name": "base",
   "language": "python",
   "name": "python3"
  },
  "language_info": {
   "codemirror_mode": {
    "name": "ipython",
    "version": 3
   },
   "file_extension": ".py",
   "mimetype": "text/x-python",
   "name": "python",
   "nbconvert_exporter": "python",
   "pygments_lexer": "ipython3",
   "version": "3.11.4"
  }
 },
 "nbformat": 4,
 "nbformat_minor": 5
}
